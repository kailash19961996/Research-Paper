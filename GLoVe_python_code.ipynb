{
  "nbformat": 4,
  "nbformat_minor": 0,
  "metadata": {
    "colab": {
      "provenance": [],
      "toc_visible": true
    },
    "kernelspec": {
      "name": "python3",
      "display_name": "Python 3"
    },
    "language_info": {
      "name": "python"
    }
  },
  "cells": [
    {
      "cell_type": "code",
      "source": [
        "import gensim\n",
        "from sklearn.manifold import TSNE\n",
        "import pandas as pd\n",
        "import numpy as np\n",
        "import matplotlib.pyplot as plt\n",
        "\n",
        "import gensim.downloader as api\n",
        "glove_model = api.load('glove-wiki-gigaword-300')"
      ],
      "metadata": {
        "id": "ck3OhZJthZ2t"
      },
      "execution_count": null,
      "outputs": []
    },
    {
      "cell_type": "code",
      "execution_count": 48,
      "metadata": {
        "colab": {
          "base_uri": "https://localhost:8080/"
        },
        "id": "x2lFF9HchVOK",
        "outputId": "05481418-62dd-4bdc-93c5-5ab59d7c8068"
      },
      "outputs": [
        {
          "output_type": "execute_result",
          "data": {
            "text/plain": [
              "18"
            ]
          },
          "metadata": {},
          "execution_count": 48
        }
      ],
      "source": [
        "my_vocab = ['apple','orange','shimla','banana','maruti','mumbai','china','india','husband'\n",
        "            ,'wife','brother','sister','red','yellow','computer','mobile','pear','guava']\n",
        "len(my_vocab)"
      ]
    },
    {
      "cell_type": "code",
      "source": [
        "\"\"\"model_path = \"glove_model\"\n",
        "glove_model.save(model_path)\"\"\""
      ],
      "metadata": {
        "id": "I8mYLcRojVgy"
      },
      "execution_count": 49,
      "outputs": []
    },
    {
      "cell_type": "code",
      "source": [
        "glove_model.most_similar('love',topn=10)"
      ],
      "metadata": {
        "colab": {
          "base_uri": "https://localhost:8080/"
        },
        "id": "QuXt02Tjhfmh",
        "outputId": "7bfec67b-3f58-4d63-d578-460aead604ba"
      },
      "execution_count": 50,
      "outputs": [
        {
          "output_type": "execute_result",
          "data": {
            "text/plain": [
              "[('loves', 0.6420262455940247),\n",
              " ('passion', 0.6261469125747681),\n",
              " ('loved', 0.595270574092865),\n",
              " ('romantic', 0.5921086072921753),\n",
              " ('lovers', 0.5904366970062256),\n",
              " ('lover', 0.5841912627220154),\n",
              " ('you', 0.5837852954864502),\n",
              " ('me', 0.5835772752761841),\n",
              " ('affection', 0.581821858882904),\n",
              " ('always', 0.5701122283935547)]"
            ]
          },
          "metadata": {},
          "execution_count": 50
        }
      ]
    },
    {
      "cell_type": "code",
      "source": [
        "# husband - man + woman = wife"
      ],
      "metadata": {
        "id": "X6j0_oXshhzW"
      },
      "execution_count": 51,
      "outputs": []
    },
    {
      "cell_type": "code",
      "source": [
        "glove_model.most_similar(positive= ['woman', 'husband'], negative=['man'],topn=3)"
      ],
      "metadata": {
        "colab": {
          "base_uri": "https://localhost:8080/"
        },
        "id": "i_8bPy9thmY4",
        "outputId": "d63208b8-5dab-44b6-c25e-1b4c355db366"
      },
      "execution_count": 52,
      "outputs": [
        {
          "output_type": "execute_result",
          "data": {
            "text/plain": [
              "[('wife', 0.7732622027397156),\n",
              " ('mother', 0.7195996046066284),\n",
              " ('daughter', 0.6967028379440308)]"
            ]
          },
          "metadata": {},
          "execution_count": 52
        }
      ]
    },
    {
      "cell_type": "code",
      "source": [
        "words = []\n",
        "vectors = []\n",
        "\n",
        "for word in my_vocab:\n",
        "    words.append(word)\n",
        "    vectors.append(glove_model[word])\n",
        "\n",
        "vectors_array = np.array(vectors)\n",
        "print(vectors_array[0].shape)"
      ],
      "metadata": {
        "colab": {
          "base_uri": "https://localhost:8080/"
        },
        "id": "TgzCMgnLhpJv",
        "outputId": "0d6160c3-cbf3-4b56-af4f-34ff795f1179"
      },
      "execution_count": 63,
      "outputs": [
        {
          "output_type": "stream",
          "name": "stdout",
          "text": [
            "(300,)\n"
          ]
        }
      ]
    },
    {
      "cell_type": "code",
      "source": [
        "dicts = zip(words,vectors)\n",
        "\n",
        "pd.DataFrame.from_dict(dicts)"
      ],
      "metadata": {
        "colab": {
          "base_uri": "https://localhost:8080/",
          "height": 613
        },
        "id": "PwbKZNRKhssv",
        "outputId": "2b4c6067-4994-4c4c-a4ab-d94032a8330b"
      },
      "execution_count": 64,
      "outputs": [
        {
          "output_type": "execute_result",
          "data": {
            "text/plain": [
              "           0                                                  1\n",
              "0      apple  [-0.20842, -0.019668, 0.063981, -0.71403, -0.2...\n",
              "1     orange  [-0.24776, -0.12359, 0.20986, -0.15834, -0.158...\n",
              "2     shimla  [-0.083216, -0.235, 0.34561, 0.082819, 0.41372...\n",
              "3     banana  [0.42141, 0.020467, 0.12666, 0.39762, -0.11016...\n",
              "4     maruti  [-0.097778, 0.39619, -0.1984, 0.12019, 0.47573...\n",
              "5     mumbai  [-0.25335, -0.41384, 0.15746, 0.23978, 0.09889...\n",
              "6      china  [-0.11286, 0.033802, -0.2941, -0.75285, 0.0542...\n",
              "7      india  [-0.11337, -0.57114, 0.070453, -0.36241, -0.05...\n",
              "8    husband  [-0.2866, -0.32581, -0.051729, -0.21017, -0.03...\n",
              "9       wife  [-0.62203, -0.091568, -0.45238, -0.45005, 0.12...\n",
              "10   brother  [-0.11814, 0.33494, 0.14149, -0.33411, 0.09787...\n",
              "11    sister  [-0.47697, 0.076817, -0.47216, -0.13498, 0.192...\n",
              "12       red  [0.059672, -0.13475, 0.26764, -0.47441, 0.0156...\n",
              "13    yellow  [-0.053451, 0.049399, 0.1133, -0.81798, -0.163...\n",
              "14  computer  [-0.27628, 0.13999, 0.098519, -0.64019, 0.0319...\n",
              "15    mobile  [-0.93518, 0.11477, -0.2488, -0.29031, -0.3565...\n",
              "16      pear  [-0.49423, -0.18297, 0.44304, -0.45103, 0.0562...\n",
              "17     guava  [0.32138, -0.43799, 0.48669, -0.41138, -0.0663..."
            ],
            "text/html": [
              "\n",
              "  <div id=\"df-348d0b32-5a4d-432e-95ee-c34f610fc9ed\" class=\"colab-df-container\">\n",
              "    <div>\n",
              "<style scoped>\n",
              "    .dataframe tbody tr th:only-of-type {\n",
              "        vertical-align: middle;\n",
              "    }\n",
              "\n",
              "    .dataframe tbody tr th {\n",
              "        vertical-align: top;\n",
              "    }\n",
              "\n",
              "    .dataframe thead th {\n",
              "        text-align: right;\n",
              "    }\n",
              "</style>\n",
              "<table border=\"1\" class=\"dataframe\">\n",
              "  <thead>\n",
              "    <tr style=\"text-align: right;\">\n",
              "      <th></th>\n",
              "      <th>0</th>\n",
              "      <th>1</th>\n",
              "    </tr>\n",
              "  </thead>\n",
              "  <tbody>\n",
              "    <tr>\n",
              "      <th>0</th>\n",
              "      <td>apple</td>\n",
              "      <td>[-0.20842, -0.019668, 0.063981, -0.71403, -0.2...</td>\n",
              "    </tr>\n",
              "    <tr>\n",
              "      <th>1</th>\n",
              "      <td>orange</td>\n",
              "      <td>[-0.24776, -0.12359, 0.20986, -0.15834, -0.158...</td>\n",
              "    </tr>\n",
              "    <tr>\n",
              "      <th>2</th>\n",
              "      <td>shimla</td>\n",
              "      <td>[-0.083216, -0.235, 0.34561, 0.082819, 0.41372...</td>\n",
              "    </tr>\n",
              "    <tr>\n",
              "      <th>3</th>\n",
              "      <td>banana</td>\n",
              "      <td>[0.42141, 0.020467, 0.12666, 0.39762, -0.11016...</td>\n",
              "    </tr>\n",
              "    <tr>\n",
              "      <th>4</th>\n",
              "      <td>maruti</td>\n",
              "      <td>[-0.097778, 0.39619, -0.1984, 0.12019, 0.47573...</td>\n",
              "    </tr>\n",
              "    <tr>\n",
              "      <th>5</th>\n",
              "      <td>mumbai</td>\n",
              "      <td>[-0.25335, -0.41384, 0.15746, 0.23978, 0.09889...</td>\n",
              "    </tr>\n",
              "    <tr>\n",
              "      <th>6</th>\n",
              "      <td>china</td>\n",
              "      <td>[-0.11286, 0.033802, -0.2941, -0.75285, 0.0542...</td>\n",
              "    </tr>\n",
              "    <tr>\n",
              "      <th>7</th>\n",
              "      <td>india</td>\n",
              "      <td>[-0.11337, -0.57114, 0.070453, -0.36241, -0.05...</td>\n",
              "    </tr>\n",
              "    <tr>\n",
              "      <th>8</th>\n",
              "      <td>husband</td>\n",
              "      <td>[-0.2866, -0.32581, -0.051729, -0.21017, -0.03...</td>\n",
              "    </tr>\n",
              "    <tr>\n",
              "      <th>9</th>\n",
              "      <td>wife</td>\n",
              "      <td>[-0.62203, -0.091568, -0.45238, -0.45005, 0.12...</td>\n",
              "    </tr>\n",
              "    <tr>\n",
              "      <th>10</th>\n",
              "      <td>brother</td>\n",
              "      <td>[-0.11814, 0.33494, 0.14149, -0.33411, 0.09787...</td>\n",
              "    </tr>\n",
              "    <tr>\n",
              "      <th>11</th>\n",
              "      <td>sister</td>\n",
              "      <td>[-0.47697, 0.076817, -0.47216, -0.13498, 0.192...</td>\n",
              "    </tr>\n",
              "    <tr>\n",
              "      <th>12</th>\n",
              "      <td>red</td>\n",
              "      <td>[0.059672, -0.13475, 0.26764, -0.47441, 0.0156...</td>\n",
              "    </tr>\n",
              "    <tr>\n",
              "      <th>13</th>\n",
              "      <td>yellow</td>\n",
              "      <td>[-0.053451, 0.049399, 0.1133, -0.81798, -0.163...</td>\n",
              "    </tr>\n",
              "    <tr>\n",
              "      <th>14</th>\n",
              "      <td>computer</td>\n",
              "      <td>[-0.27628, 0.13999, 0.098519, -0.64019, 0.0319...</td>\n",
              "    </tr>\n",
              "    <tr>\n",
              "      <th>15</th>\n",
              "      <td>mobile</td>\n",
              "      <td>[-0.93518, 0.11477, -0.2488, -0.29031, -0.3565...</td>\n",
              "    </tr>\n",
              "    <tr>\n",
              "      <th>16</th>\n",
              "      <td>pear</td>\n",
              "      <td>[-0.49423, -0.18297, 0.44304, -0.45103, 0.0562...</td>\n",
              "    </tr>\n",
              "    <tr>\n",
              "      <th>17</th>\n",
              "      <td>guava</td>\n",
              "      <td>[0.32138, -0.43799, 0.48669, -0.41138, -0.0663...</td>\n",
              "    </tr>\n",
              "  </tbody>\n",
              "</table>\n",
              "</div>\n",
              "    <div class=\"colab-df-buttons\">\n",
              "\n",
              "  <div class=\"colab-df-container\">\n",
              "    <button class=\"colab-df-convert\" onclick=\"convertToInteractive('df-348d0b32-5a4d-432e-95ee-c34f610fc9ed')\"\n",
              "            title=\"Convert this dataframe to an interactive table.\"\n",
              "            style=\"display:none;\">\n",
              "\n",
              "  <svg xmlns=\"http://www.w3.org/2000/svg\" height=\"24px\" viewBox=\"0 -960 960 960\">\n",
              "    <path d=\"M120-120v-720h720v720H120Zm60-500h600v-160H180v160Zm220 220h160v-160H400v160Zm0 220h160v-160H400v160ZM180-400h160v-160H180v160Zm440 0h160v-160H620v160ZM180-180h160v-160H180v160Zm440 0h160v-160H620v160Z\"/>\n",
              "  </svg>\n",
              "    </button>\n",
              "\n",
              "  <style>\n",
              "    .colab-df-container {\n",
              "      display:flex;\n",
              "      gap: 12px;\n",
              "    }\n",
              "\n",
              "    .colab-df-convert {\n",
              "      background-color: #E8F0FE;\n",
              "      border: none;\n",
              "      border-radius: 50%;\n",
              "      cursor: pointer;\n",
              "      display: none;\n",
              "      fill: #1967D2;\n",
              "      height: 32px;\n",
              "      padding: 0 0 0 0;\n",
              "      width: 32px;\n",
              "    }\n",
              "\n",
              "    .colab-df-convert:hover {\n",
              "      background-color: #E2EBFA;\n",
              "      box-shadow: 0px 1px 2px rgba(60, 64, 67, 0.3), 0px 1px 3px 1px rgba(60, 64, 67, 0.15);\n",
              "      fill: #174EA6;\n",
              "    }\n",
              "\n",
              "    .colab-df-buttons div {\n",
              "      margin-bottom: 4px;\n",
              "    }\n",
              "\n",
              "    [theme=dark] .colab-df-convert {\n",
              "      background-color: #3B4455;\n",
              "      fill: #D2E3FC;\n",
              "    }\n",
              "\n",
              "    [theme=dark] .colab-df-convert:hover {\n",
              "      background-color: #434B5C;\n",
              "      box-shadow: 0px 1px 3px 1px rgba(0, 0, 0, 0.15);\n",
              "      filter: drop-shadow(0px 1px 2px rgba(0, 0, 0, 0.3));\n",
              "      fill: #FFFFFF;\n",
              "    }\n",
              "  </style>\n",
              "\n",
              "    <script>\n",
              "      const buttonEl =\n",
              "        document.querySelector('#df-348d0b32-5a4d-432e-95ee-c34f610fc9ed button.colab-df-convert');\n",
              "      buttonEl.style.display =\n",
              "        google.colab.kernel.accessAllowed ? 'block' : 'none';\n",
              "\n",
              "      async function convertToInteractive(key) {\n",
              "        const element = document.querySelector('#df-348d0b32-5a4d-432e-95ee-c34f610fc9ed');\n",
              "        const dataTable =\n",
              "          await google.colab.kernel.invokeFunction('convertToInteractive',\n",
              "                                                    [key], {});\n",
              "        if (!dataTable) return;\n",
              "\n",
              "        const docLinkHtml = 'Like what you see? Visit the ' +\n",
              "          '<a target=\"_blank\" href=https://colab.research.google.com/notebooks/data_table.ipynb>data table notebook</a>'\n",
              "          + ' to learn more about interactive tables.';\n",
              "        element.innerHTML = '';\n",
              "        dataTable['output_type'] = 'display_data';\n",
              "        await google.colab.output.renderOutput(dataTable, element);\n",
              "        const docLink = document.createElement('div');\n",
              "        docLink.innerHTML = docLinkHtml;\n",
              "        element.appendChild(docLink);\n",
              "      }\n",
              "    </script>\n",
              "  </div>\n",
              "\n",
              "\n",
              "<div id=\"df-552ff706-a081-4040-a2b3-8bacb6ffc884\">\n",
              "  <button class=\"colab-df-quickchart\" onclick=\"quickchart('df-552ff706-a081-4040-a2b3-8bacb6ffc884')\"\n",
              "            title=\"Suggest charts\"\n",
              "            style=\"display:none;\">\n",
              "\n",
              "<svg xmlns=\"http://www.w3.org/2000/svg\" height=\"24px\"viewBox=\"0 0 24 24\"\n",
              "     width=\"24px\">\n",
              "    <g>\n",
              "        <path d=\"M19 3H5c-1.1 0-2 .9-2 2v14c0 1.1.9 2 2 2h14c1.1 0 2-.9 2-2V5c0-1.1-.9-2-2-2zM9 17H7v-7h2v7zm4 0h-2V7h2v10zm4 0h-2v-4h2v4z\"/>\n",
              "    </g>\n",
              "</svg>\n",
              "  </button>\n",
              "\n",
              "<style>\n",
              "  .colab-df-quickchart {\n",
              "      --bg-color: #E8F0FE;\n",
              "      --fill-color: #1967D2;\n",
              "      --hover-bg-color: #E2EBFA;\n",
              "      --hover-fill-color: #174EA6;\n",
              "      --disabled-fill-color: #AAA;\n",
              "      --disabled-bg-color: #DDD;\n",
              "  }\n",
              "\n",
              "  [theme=dark] .colab-df-quickchart {\n",
              "      --bg-color: #3B4455;\n",
              "      --fill-color: #D2E3FC;\n",
              "      --hover-bg-color: #434B5C;\n",
              "      --hover-fill-color: #FFFFFF;\n",
              "      --disabled-bg-color: #3B4455;\n",
              "      --disabled-fill-color: #666;\n",
              "  }\n",
              "\n",
              "  .colab-df-quickchart {\n",
              "    background-color: var(--bg-color);\n",
              "    border: none;\n",
              "    border-radius: 50%;\n",
              "    cursor: pointer;\n",
              "    display: none;\n",
              "    fill: var(--fill-color);\n",
              "    height: 32px;\n",
              "    padding: 0;\n",
              "    width: 32px;\n",
              "  }\n",
              "\n",
              "  .colab-df-quickchart:hover {\n",
              "    background-color: var(--hover-bg-color);\n",
              "    box-shadow: 0 1px 2px rgba(60, 64, 67, 0.3), 0 1px 3px 1px rgba(60, 64, 67, 0.15);\n",
              "    fill: var(--button-hover-fill-color);\n",
              "  }\n",
              "\n",
              "  .colab-df-quickchart-complete:disabled,\n",
              "  .colab-df-quickchart-complete:disabled:hover {\n",
              "    background-color: var(--disabled-bg-color);\n",
              "    fill: var(--disabled-fill-color);\n",
              "    box-shadow: none;\n",
              "  }\n",
              "\n",
              "  .colab-df-spinner {\n",
              "    border: 2px solid var(--fill-color);\n",
              "    border-color: transparent;\n",
              "    border-bottom-color: var(--fill-color);\n",
              "    animation:\n",
              "      spin 1s steps(1) infinite;\n",
              "  }\n",
              "\n",
              "  @keyframes spin {\n",
              "    0% {\n",
              "      border-color: transparent;\n",
              "      border-bottom-color: var(--fill-color);\n",
              "      border-left-color: var(--fill-color);\n",
              "    }\n",
              "    20% {\n",
              "      border-color: transparent;\n",
              "      border-left-color: var(--fill-color);\n",
              "      border-top-color: var(--fill-color);\n",
              "    }\n",
              "    30% {\n",
              "      border-color: transparent;\n",
              "      border-left-color: var(--fill-color);\n",
              "      border-top-color: var(--fill-color);\n",
              "      border-right-color: var(--fill-color);\n",
              "    }\n",
              "    40% {\n",
              "      border-color: transparent;\n",
              "      border-right-color: var(--fill-color);\n",
              "      border-top-color: var(--fill-color);\n",
              "    }\n",
              "    60% {\n",
              "      border-color: transparent;\n",
              "      border-right-color: var(--fill-color);\n",
              "    }\n",
              "    80% {\n",
              "      border-color: transparent;\n",
              "      border-right-color: var(--fill-color);\n",
              "      border-bottom-color: var(--fill-color);\n",
              "    }\n",
              "    90% {\n",
              "      border-color: transparent;\n",
              "      border-bottom-color: var(--fill-color);\n",
              "    }\n",
              "  }\n",
              "</style>\n",
              "\n",
              "  <script>\n",
              "    async function quickchart(key) {\n",
              "      const quickchartButtonEl =\n",
              "        document.querySelector('#' + key + ' button');\n",
              "      quickchartButtonEl.disabled = true;  // To prevent multiple clicks.\n",
              "      quickchartButtonEl.classList.add('colab-df-spinner');\n",
              "      try {\n",
              "        const charts = await google.colab.kernel.invokeFunction(\n",
              "            'suggestCharts', [key], {});\n",
              "      } catch (error) {\n",
              "        console.error('Error during call to suggestCharts:', error);\n",
              "      }\n",
              "      quickchartButtonEl.classList.remove('colab-df-spinner');\n",
              "      quickchartButtonEl.classList.add('colab-df-quickchart-complete');\n",
              "    }\n",
              "    (() => {\n",
              "      let quickchartButtonEl =\n",
              "        document.querySelector('#df-552ff706-a081-4040-a2b3-8bacb6ffc884 button');\n",
              "      quickchartButtonEl.style.display =\n",
              "        google.colab.kernel.accessAllowed ? 'block' : 'none';\n",
              "    })();\n",
              "  </script>\n",
              "</div>\n",
              "    </div>\n",
              "  </div>\n"
            ],
            "application/vnd.google.colaboratory.intrinsic+json": {
              "type": "dataframe",
              "summary": "{\n  \"name\": \"pd\",\n  \"rows\": 18,\n  \"fields\": [\n    {\n      \"column\": 0,\n      \"properties\": {\n        \"dtype\": \"string\",\n        \"num_unique_values\": 18,\n        \"samples\": [\n          \"apple\",\n          \"orange\",\n          \"husband\"\n        ],\n        \"semantic_type\": \"\",\n        \"description\": \"\"\n      }\n    },\n    {\n      \"column\": 1,\n      \"properties\": {\n        \"dtype\": \"object\",\n        \"semantic_type\": \"\",\n        \"description\": \"\"\n      }\n    }\n  ]\n}"
            }
          },
          "metadata": {},
          "execution_count": 64
        }
      ]
    },
    {
      "cell_type": "code",
      "source": [
        "dim_model = TSNE(n_components=2, perplexity=3, init='pca', random_state=45)\n",
        "fit_model = dim_model.fit_transform(vectors_array)"
      ],
      "metadata": {
        "id": "7YvYjCmskUFh"
      },
      "execution_count": 65,
      "outputs": []
    },
    {
      "cell_type": "code",
      "source": [
        "fit_model"
      ],
      "metadata": {
        "colab": {
          "base_uri": "https://localhost:8080/"
        },
        "id": "iogcngn2i7YR",
        "outputId": "a13e6a08-024a-4f57-ebd3-cbdb34df082a"
      },
      "execution_count": 66,
      "outputs": [
        {
          "output_type": "execute_result",
          "data": {
            "text/plain": [
              "array([[ 3.6855333e+00,  2.0465258e+01],\n",
              "       [ 1.8119772e+01, -6.2651241e+01],\n",
              "       [ 5.3032837e+01, -6.6119760e-02],\n",
              "       [ 1.0946297e+01,  3.4961132e+01],\n",
              "       [ 6.1068363e+01, -1.7654331e+01],\n",
              "       [ 4.9868042e+01, -8.2426996e+00],\n",
              "       [ 4.4246586e+01, -2.1651392e+01],\n",
              "       [ 4.9913738e+01, -1.5310020e+01],\n",
              "       [-1.6391689e+01, -3.7068909e+01],\n",
              "       [-1.5937251e+01, -3.0278357e+01],\n",
              "       [-2.4906244e+01, -3.4887527e+01],\n",
              "       [-7.9130182e+00, -2.9896429e+01],\n",
              "       [ 8.2344666e+00, -7.0003899e+01],\n",
              "       [ 1.4667891e+01, -6.9354698e+01],\n",
              "       [ 3.1475229e+00,  1.2809575e+01],\n",
              "       [ 3.3375921e+00,  5.4183140e+00],\n",
              "       [ 7.6263763e-02,  3.8358200e+01],\n",
              "       [ 7.4306898e+00,  4.0926601e+01]], dtype=float32)"
            ]
          },
          "metadata": {},
          "execution_count": 66
        }
      ]
    },
    {
      "cell_type": "code",
      "source": [
        "x = []\n",
        "y = []\n",
        "\n",
        "for i in fit_model:\n",
        "    x.append(i[0])\n",
        "    y.append(i[1])"
      ],
      "metadata": {
        "id": "X0_SYf_mi9cu"
      },
      "execution_count": 67,
      "outputs": []
    },
    {
      "cell_type": "code",
      "source": [
        "plt.figure(figsize=(8,8))\n",
        "\n",
        "for i in range(len(x)):\n",
        "    plt.scatter(x[i],y[i])\n",
        "    plt.annotate(words[i], xy=(x[i],y[i]),\n",
        "                 xytext=(2, 2),\n",
        "                 textcoords='offset points',\n",
        "                 ha='right',\n",
        "                 va='bottom'\n",
        "                )"
      ],
      "metadata": {
        "colab": {
          "base_uri": "https://localhost:8080/",
          "height": 676
        },
        "id": "Okicp6tti_Xt",
        "outputId": "d10a5e20-770a-4a63-d0ac-e5dd0b803913"
      },
      "execution_count": 68,
      "outputs": [
        {
          "output_type": "display_data",
          "data": {
            "text/plain": [
              "<Figure size 800x800 with 1 Axes>"
            ],
            "image/png": "[encoded data removed]"
          },
          "metadata": {}
        }
      ]
    },
    {
      "cell_type": "code",
      "source": [],
      "metadata": {
        "id": "YHAsrxTujBiq"
      },
      "execution_count": 62,
      "outputs": []
    }
  ]
}
